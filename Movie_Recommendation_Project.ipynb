{
 "cells": [
  {
   "cell_type": "markdown",
   "id": "e2cdeed8",
   "metadata": {},
   "source": [
    "<h1 style = \"color: black; background-color: yellow;\" align=\"center\"> Content Based Movie Recommendation System</h1>\n",
    "\n",
    "* <p style = \"color: white; background-color: black;font-size:14px ;\"> A recommendation system is a type of information filtering system which attempts to predict the preferences of a user, \n",
    "and make suggests based on their preferences.</p> \n",
    "\n",
    "\n",
    "* <p style = \"color: white; background-color: black;font-size:14px ;\">  Given the huge amount of movies  are  available all over the world, it is challenging for a user to find the appropriate movies suitable for his/her tastes. \n",
    "Different users like different movies or actors. It is important to find a method of filtering irrelevant movies and/or find a set of relevant movies.<br>Movie recommendation system is a process of exactly doing  above tasks.\n",
    "\n",
    "\n",
    "* <p style = \"color: white; background-color: black;font-size:14px ;\">This recommender system has  a very high business value as an example Netflix estimated  that Recommendation is worth a yearly $1billion. <p>\n",
    " "
   ]
  },
  {
   "cell_type": "code",
   "execution_count": 1,
   "id": "7b142a1b",
   "metadata": {},
   "outputs": [],
   "source": [
    "# Importing the dependencies\n",
    "\n",
    "import pandas as pd\n",
    "import difflib\n",
    "\n",
    "from  sklearn.feature_extraction.text import TfidfVectorizer\n",
    "from  sklearn.metrics.pairwise import  cosine_similarity\n"
   ]
  },
  {
   "cell_type": "markdown",
   "id": "69f7ad54",
   "metadata": {},
   "source": [
    "### Data collection and preprocessing\n",
    "\n"
   ]
  },
  {
   "cell_type": "code",
   "execution_count": 2,
   "id": "206cff2b",
   "metadata": {},
   "outputs": [],
   "source": [
    "movies_data = pd.read_csv('movies.csv')\n"
   ]
  },
  {
   "cell_type": "code",
   "execution_count": 3,
   "id": "89ccc1d3",
   "metadata": {
    "scrolled": true
   },
   "outputs": [
    {
     "data": {
      "text/html": [
       "<div>\n",
       "<style scoped>\n",
       "    .dataframe tbody tr th:only-of-type {\n",
       "        vertical-align: middle;\n",
       "    }\n",
       "\n",
       "    .dataframe tbody tr th {\n",
       "        vertical-align: top;\n",
       "    }\n",
       "\n",
       "    .dataframe thead th {\n",
       "        text-align: right;\n",
       "    }\n",
       "</style>\n",
       "<table border=\"1\" class=\"dataframe\">\n",
       "  <thead>\n",
       "    <tr style=\"text-align: right;\">\n",
       "      <th></th>\n",
       "      <th>index</th>\n",
       "      <th>budget</th>\n",
       "      <th>genres</th>\n",
       "      <th>homepage</th>\n",
       "      <th>id</th>\n",
       "      <th>keywords</th>\n",
       "      <th>original_language</th>\n",
       "      <th>original_title</th>\n",
       "      <th>overview</th>\n",
       "      <th>popularity</th>\n",
       "      <th>...</th>\n",
       "      <th>runtime</th>\n",
       "      <th>spoken_languages</th>\n",
       "      <th>status</th>\n",
       "      <th>tagline</th>\n",
       "      <th>title</th>\n",
       "      <th>vote_average</th>\n",
       "      <th>vote_count</th>\n",
       "      <th>cast</th>\n",
       "      <th>crew</th>\n",
       "      <th>director</th>\n",
       "    </tr>\n",
       "  </thead>\n",
       "  <tbody>\n",
       "    <tr>\n",
       "      <th>0</th>\n",
       "      <td>0</td>\n",
       "      <td>237000000</td>\n",
       "      <td>Action Adventure Fantasy Science Fiction</td>\n",
       "      <td>http://www.avatarmovie.com/</td>\n",
       "      <td>19995</td>\n",
       "      <td>culture clash future space war space colony so...</td>\n",
       "      <td>en</td>\n",
       "      <td>Avatar</td>\n",
       "      <td>In the 22nd century, a paraplegic Marine is di...</td>\n",
       "      <td>150.437577</td>\n",
       "      <td>...</td>\n",
       "      <td>162.0</td>\n",
       "      <td>[{\"iso_639_1\": \"en\", \"name\": \"English\"}, {\"iso...</td>\n",
       "      <td>Released</td>\n",
       "      <td>Enter the World of Pandora.</td>\n",
       "      <td>Avatar</td>\n",
       "      <td>7.2</td>\n",
       "      <td>11800</td>\n",
       "      <td>Sam Worthington Zoe Saldana Sigourney Weaver S...</td>\n",
       "      <td>[{'name': 'Stephen E. Rivkin', 'gender': 0, 'd...</td>\n",
       "      <td>James Cameron</td>\n",
       "    </tr>\n",
       "    <tr>\n",
       "      <th>1</th>\n",
       "      <td>1</td>\n",
       "      <td>300000000</td>\n",
       "      <td>Adventure Fantasy Action</td>\n",
       "      <td>http://disney.go.com/disneypictures/pirates/</td>\n",
       "      <td>285</td>\n",
       "      <td>ocean drug abuse exotic island east india trad...</td>\n",
       "      <td>en</td>\n",
       "      <td>Pirates of the Caribbean: At World's End</td>\n",
       "      <td>Captain Barbossa, long believed to be dead, ha...</td>\n",
       "      <td>139.082615</td>\n",
       "      <td>...</td>\n",
       "      <td>169.0</td>\n",
       "      <td>[{\"iso_639_1\": \"en\", \"name\": \"English\"}]</td>\n",
       "      <td>Released</td>\n",
       "      <td>At the end of the world, the adventure begins.</td>\n",
       "      <td>Pirates of the Caribbean: At World's End</td>\n",
       "      <td>6.9</td>\n",
       "      <td>4500</td>\n",
       "      <td>Johnny Depp Orlando Bloom Keira Knightley Stel...</td>\n",
       "      <td>[{'name': 'Dariusz Wolski', 'gender': 2, 'depa...</td>\n",
       "      <td>Gore Verbinski</td>\n",
       "    </tr>\n",
       "    <tr>\n",
       "      <th>2</th>\n",
       "      <td>2</td>\n",
       "      <td>245000000</td>\n",
       "      <td>Action Adventure Crime</td>\n",
       "      <td>http://www.sonypictures.com/movies/spectre/</td>\n",
       "      <td>206647</td>\n",
       "      <td>spy based on novel secret agent sequel mi6</td>\n",
       "      <td>en</td>\n",
       "      <td>Spectre</td>\n",
       "      <td>A cryptic message from Bond’s past sends him o...</td>\n",
       "      <td>107.376788</td>\n",
       "      <td>...</td>\n",
       "      <td>148.0</td>\n",
       "      <td>[{\"iso_639_1\": \"fr\", \"name\": \"Fran\\u00e7ais\"},...</td>\n",
       "      <td>Released</td>\n",
       "      <td>A Plan No One Escapes</td>\n",
       "      <td>Spectre</td>\n",
       "      <td>6.3</td>\n",
       "      <td>4466</td>\n",
       "      <td>Daniel Craig Christoph Waltz L\\u00e9a Seydoux ...</td>\n",
       "      <td>[{'name': 'Thomas Newman', 'gender': 2, 'depar...</td>\n",
       "      <td>Sam Mendes</td>\n",
       "    </tr>\n",
       "    <tr>\n",
       "      <th>3</th>\n",
       "      <td>3</td>\n",
       "      <td>250000000</td>\n",
       "      <td>Action Crime Drama Thriller</td>\n",
       "      <td>http://www.thedarkknightrises.com/</td>\n",
       "      <td>49026</td>\n",
       "      <td>dc comics crime fighter terrorist secret ident...</td>\n",
       "      <td>en</td>\n",
       "      <td>The Dark Knight Rises</td>\n",
       "      <td>Following the death of District Attorney Harve...</td>\n",
       "      <td>112.312950</td>\n",
       "      <td>...</td>\n",
       "      <td>165.0</td>\n",
       "      <td>[{\"iso_639_1\": \"en\", \"name\": \"English\"}]</td>\n",
       "      <td>Released</td>\n",
       "      <td>The Legend Ends</td>\n",
       "      <td>The Dark Knight Rises</td>\n",
       "      <td>7.6</td>\n",
       "      <td>9106</td>\n",
       "      <td>Christian Bale Michael Caine Gary Oldman Anne ...</td>\n",
       "      <td>[{'name': 'Hans Zimmer', 'gender': 2, 'departm...</td>\n",
       "      <td>Christopher Nolan</td>\n",
       "    </tr>\n",
       "    <tr>\n",
       "      <th>4</th>\n",
       "      <td>4</td>\n",
       "      <td>260000000</td>\n",
       "      <td>Action Adventure Science Fiction</td>\n",
       "      <td>http://movies.disney.com/john-carter</td>\n",
       "      <td>49529</td>\n",
       "      <td>based on novel mars medallion space travel pri...</td>\n",
       "      <td>en</td>\n",
       "      <td>John Carter</td>\n",
       "      <td>John Carter is a war-weary, former military ca...</td>\n",
       "      <td>43.926995</td>\n",
       "      <td>...</td>\n",
       "      <td>132.0</td>\n",
       "      <td>[{\"iso_639_1\": \"en\", \"name\": \"English\"}]</td>\n",
       "      <td>Released</td>\n",
       "      <td>Lost in our world, found in another.</td>\n",
       "      <td>John Carter</td>\n",
       "      <td>6.1</td>\n",
       "      <td>2124</td>\n",
       "      <td>Taylor Kitsch Lynn Collins Samantha Morton Wil...</td>\n",
       "      <td>[{'name': 'Andrew Stanton', 'gender': 2, 'depa...</td>\n",
       "      <td>Andrew Stanton</td>\n",
       "    </tr>\n",
       "  </tbody>\n",
       "</table>\n",
       "<p>5 rows × 24 columns</p>\n",
       "</div>"
      ],
      "text/plain": [
       "   index     budget                                    genres  \\\n",
       "0      0  237000000  Action Adventure Fantasy Science Fiction   \n",
       "1      1  300000000                  Adventure Fantasy Action   \n",
       "2      2  245000000                    Action Adventure Crime   \n",
       "3      3  250000000               Action Crime Drama Thriller   \n",
       "4      4  260000000          Action Adventure Science Fiction   \n",
       "\n",
       "                                       homepage      id  \\\n",
       "0                   http://www.avatarmovie.com/   19995   \n",
       "1  http://disney.go.com/disneypictures/pirates/     285   \n",
       "2   http://www.sonypictures.com/movies/spectre/  206647   \n",
       "3            http://www.thedarkknightrises.com/   49026   \n",
       "4          http://movies.disney.com/john-carter   49529   \n",
       "\n",
       "                                            keywords original_language  \\\n",
       "0  culture clash future space war space colony so...                en   \n",
       "1  ocean drug abuse exotic island east india trad...                en   \n",
       "2         spy based on novel secret agent sequel mi6                en   \n",
       "3  dc comics crime fighter terrorist secret ident...                en   \n",
       "4  based on novel mars medallion space travel pri...                en   \n",
       "\n",
       "                             original_title  \\\n",
       "0                                    Avatar   \n",
       "1  Pirates of the Caribbean: At World's End   \n",
       "2                                   Spectre   \n",
       "3                     The Dark Knight Rises   \n",
       "4                               John Carter   \n",
       "\n",
       "                                            overview  popularity  ... runtime  \\\n",
       "0  In the 22nd century, a paraplegic Marine is di...  150.437577  ...   162.0   \n",
       "1  Captain Barbossa, long believed to be dead, ha...  139.082615  ...   169.0   \n",
       "2  A cryptic message from Bond’s past sends him o...  107.376788  ...   148.0   \n",
       "3  Following the death of District Attorney Harve...  112.312950  ...   165.0   \n",
       "4  John Carter is a war-weary, former military ca...   43.926995  ...   132.0   \n",
       "\n",
       "                                    spoken_languages    status  \\\n",
       "0  [{\"iso_639_1\": \"en\", \"name\": \"English\"}, {\"iso...  Released   \n",
       "1           [{\"iso_639_1\": \"en\", \"name\": \"English\"}]  Released   \n",
       "2  [{\"iso_639_1\": \"fr\", \"name\": \"Fran\\u00e7ais\"},...  Released   \n",
       "3           [{\"iso_639_1\": \"en\", \"name\": \"English\"}]  Released   \n",
       "4           [{\"iso_639_1\": \"en\", \"name\": \"English\"}]  Released   \n",
       "\n",
       "                                          tagline  \\\n",
       "0                     Enter the World of Pandora.   \n",
       "1  At the end of the world, the adventure begins.   \n",
       "2                           A Plan No One Escapes   \n",
       "3                                 The Legend Ends   \n",
       "4            Lost in our world, found in another.   \n",
       "\n",
       "                                      title vote_average vote_count  \\\n",
       "0                                    Avatar          7.2      11800   \n",
       "1  Pirates of the Caribbean: At World's End          6.9       4500   \n",
       "2                                   Spectre          6.3       4466   \n",
       "3                     The Dark Knight Rises          7.6       9106   \n",
       "4                               John Carter          6.1       2124   \n",
       "\n",
       "                                                cast  \\\n",
       "0  Sam Worthington Zoe Saldana Sigourney Weaver S...   \n",
       "1  Johnny Depp Orlando Bloom Keira Knightley Stel...   \n",
       "2  Daniel Craig Christoph Waltz L\\u00e9a Seydoux ...   \n",
       "3  Christian Bale Michael Caine Gary Oldman Anne ...   \n",
       "4  Taylor Kitsch Lynn Collins Samantha Morton Wil...   \n",
       "\n",
       "                                                crew           director  \n",
       "0  [{'name': 'Stephen E. Rivkin', 'gender': 0, 'd...      James Cameron  \n",
       "1  [{'name': 'Dariusz Wolski', 'gender': 2, 'depa...     Gore Verbinski  \n",
       "2  [{'name': 'Thomas Newman', 'gender': 2, 'depar...         Sam Mendes  \n",
       "3  [{'name': 'Hans Zimmer', 'gender': 2, 'departm...  Christopher Nolan  \n",
       "4  [{'name': 'Andrew Stanton', 'gender': 2, 'depa...     Andrew Stanton  \n",
       "\n",
       "[5 rows x 24 columns]"
      ]
     },
     "execution_count": 3,
     "metadata": {},
     "output_type": "execute_result"
    }
   ],
   "source": [
    "# Printing the 5 first rows of the dataframe \n",
    "\n",
    "movies_data.head()"
   ]
  },
  {
   "cell_type": "code",
   "execution_count": 4,
   "id": "96f8c3b1",
   "metadata": {},
   "outputs": [
    {
     "data": {
      "text/plain": [
       "(4803, 24)"
      ]
     },
     "execution_count": 4,
     "metadata": {},
     "output_type": "execute_result"
    }
   ],
   "source": [
    "movies_data.shape"
   ]
  },
  {
   "cell_type": "code",
   "execution_count": 5,
   "id": "95a178e4",
   "metadata": {},
   "outputs": [
    {
     "data": {
      "text/plain": [
       "index                      0\n",
       "budget                     0\n",
       "genres                    28\n",
       "homepage                3091\n",
       "id                         0\n",
       "keywords                 412\n",
       "original_language          0\n",
       "original_title             0\n",
       "overview                   3\n",
       "popularity                 0\n",
       "production_companies       0\n",
       "production_countries       0\n",
       "release_date               1\n",
       "revenue                    0\n",
       "runtime                    2\n",
       "spoken_languages           0\n",
       "status                     0\n",
       "tagline                  844\n",
       "title                      0\n",
       "vote_average               0\n",
       "vote_count                 0\n",
       "cast                      43\n",
       "crew                       0\n",
       "director                  30\n",
       "dtype: int64"
      ]
     },
     "execution_count": 5,
     "metadata": {},
     "output_type": "execute_result"
    }
   ],
   "source": [
    "movies_data.isnull().sum()"
   ]
  },
  {
   "cell_type": "code",
   "execution_count": 6,
   "id": "32c77012",
   "metadata": {},
   "outputs": [
    {
     "name": "stdout",
     "output_type": "stream",
     "text": [
      "['genres', 'keywords', 'tagline', 'cast', 'director', 'original_language']\n"
     ]
    }
   ],
   "source": [
    "# Selecting relevant features for recommendation\n",
    "# Or feature Selection\n",
    "\n",
    "selected_features = ['genres', 'keywords','tagline','cast','director', 'original_language' ]\n",
    "print(selected_features) "
   ]
  },
  {
   "cell_type": "markdown",
   "id": "afd57150",
   "metadata": {},
   "source": [
    "### Textual data contains a lot of missing values called as null values and we need to replace them with null string "
   ]
  },
  {
   "cell_type": "code",
   "execution_count": 7,
   "id": "806b9478",
   "metadata": {},
   "outputs": [],
   "source": [
    "# Replacin null values with null string \n",
    "\n",
    "for feature in selected_features:\n",
    "    \n",
    "    movies_data[feature] = movies_data[feature].fillna('')"
   ]
  },
  {
   "cell_type": "code",
   "execution_count": 8,
   "id": "d8783686",
   "metadata": {},
   "outputs": [],
   "source": [
    "# Combining the all 5 selected features\n",
    "\n",
    "combined_features = movies_data['genres']+' '+ movies_data['keywords']+' '+ movies_data['tagline']+' '+movies_data['cast']+' '+movies_data['director']\n",
    "\n"
   ]
  },
  {
   "cell_type": "code",
   "execution_count": 9,
   "id": "6173b84e",
   "metadata": {},
   "outputs": [
    {
     "name": "stdout",
     "output_type": "stream",
     "text": [
      "0       Action Adventure Fantasy Science Fiction cultu...\n",
      "1       Adventure Fantasy Action ocean drug abuse exot...\n",
      "2       Action Adventure Crime spy based on novel secr...\n",
      "3       Action Crime Drama Thriller dc comics crime fi...\n",
      "4       Action Adventure Science Fiction based on nove...\n",
      "                              ...                        \n",
      "4798    Action Crime Thriller united states\\u2013mexic...\n",
      "4799    Comedy Romance  A newlywed couple's honeymoon ...\n",
      "4800    Comedy Drama Romance TV Movie date love at fir...\n",
      "4801      A New Yorker in Shanghai Daniel Henney Eliza...\n",
      "4802    Documentary obsession camcorder crush dream gi...\n",
      "Length: 4803, dtype: object\n"
     ]
    }
   ],
   "source": [
    "print(combined_features)"
   ]
  },
  {
   "cell_type": "markdown",
   "id": "e8f5a904",
   "metadata": {},
   "source": [
    "###  Now we are going to convert this textual data to feature vectors/ numerical values\n",
    "\n",
    "- The reason to convert textual data into numerical values is that we cannot find the cosine similarity easily with the text data \n",
    "But if we have a numerical data then we can easily find the cosine similarity "
   ]
  },
  {
   "cell_type": "code",
   "execution_count": 10,
   "id": "89427587",
   "metadata": {},
   "outputs": [],
   "source": [
    "vectorizer = TfidfVectorizer()\n"
   ]
  },
  {
   "cell_type": "code",
   "execution_count": 11,
   "id": "69202ac2",
   "metadata": {},
   "outputs": [],
   "source": [
    "# We  use vectorizer to fit and transform the data \n",
    "# So in feature_vectorizer varible I am going to all the numerical values \n",
    "# we tansform the combined_features data \n",
    "\n",
    "feature_vectors = vectorizer.fit_transform(combined_features)"
   ]
  },
  {
   "cell_type": "code",
   "execution_count": 14,
   "id": "d7475de7",
   "metadata": {},
   "outputs": [
    {
     "name": "stdout",
     "output_type": "stream",
     "text": [
      "  (0, 2432)\t0.17272411194153\n",
      "  (0, 7755)\t0.1128035714854756\n",
      "  (0, 13024)\t0.1942362060108871\n",
      "  (0, 10229)\t0.16058685400095302\n",
      "  (0, 8756)\t0.22709015857011816\n",
      "  (0, 14608)\t0.15150672398763912\n",
      "  (0, 16668)\t0.19843263965100372\n",
      "  (0, 14064)\t0.20596090415084142\n",
      "  (0, 13319)\t0.2177470539412484\n",
      "  (0, 17290)\t0.20197912553916567\n",
      "  (0, 17007)\t0.23643326319898797\n",
      "  (0, 13349)\t0.15021264094167086\n",
      "  (0, 11503)\t0.27211310056983656\n",
      "  (0, 11192)\t0.09049319826481456\n",
      "  (0, 16998)\t0.1282126322850579\n",
      "  (0, 15261)\t0.07095833561276566\n",
      "  (0, 4945)\t0.24025852494110758\n",
      "  (0, 14271)\t0.21392179219912877\n",
      "  (0, 3225)\t0.24960162956997736\n",
      "  (0, 16587)\t0.12549432354918996\n",
      "  (0, 14378)\t0.33962752210959823\n",
      "  (0, 5836)\t0.1646750903586285\n",
      "  (0, 3065)\t0.22208377802661425\n",
      "  (0, 3678)\t0.21392179219912877\n",
      "  (0, 5437)\t0.1036413987316636\n",
      "  (0, 13599)\t0.1036413987316636\n",
      "  (0, 5274)\t0.11108562744414445\n",
      "  (0, 274)\t0.09021200873707368\n",
      "  (0, 201)\t0.07860022416510505\n"
     ]
    }
   ],
   "source": [
    "print(feature_vectors[:1])"
   ]
  },
  {
   "cell_type": "markdown",
   "id": "16c65485",
   "metadata": {},
   "source": [
    "### We dont feed the textual data directly to our machine so first we convert them to feature vectors and then we will feed the data to our machine learning model"
   ]
  },
  {
   "cell_type": "markdown",
   "id": "136df362",
   "metadata": {},
   "source": [
    "<h1 style = \"color: black; background-color: yellow; font-family: Comic Sans MS;\" align=\"center\">  Cosine Similarity </h1>\n",
    " \n",
    "\n",
    "Getting the similarity scores using cosine similarity \n",
    "\n",
    "First we converted the textual data to numerical values and now we can feed the cosine similarity.\n",
    "\n",
    "Cosine similarity function will go through all the numerical values and will try to find which values are similar to each other \n",
    "and the end result is that it can find which movies are related to each other.  "
   ]
  },
  {
   "cell_type": "code",
   "execution_count": 15,
   "id": "3fa704d0",
   "metadata": {},
   "outputs": [],
   "source": [
    "# Getting the similarity scores using cosine similarity \n",
    "\n",
    "similarity = cosine_similarity(feature_vectors)"
   ]
  },
  {
   "cell_type": "code",
   "execution_count": 16,
   "id": "01a44540",
   "metadata": {},
   "outputs": [
    {
     "name": "stdout",
     "output_type": "stream",
     "text": [
      "[[1.         0.07219487 0.037733   ... 0.         0.         0.        ]\n",
      " [0.07219487 1.         0.03281499 ... 0.03575545 0.         0.        ]\n",
      " [0.037733   0.03281499 1.         ... 0.         0.05389661 0.        ]\n",
      " ...\n",
      " [0.         0.03575545 0.         ... 1.         0.         0.02651502]\n",
      " [0.         0.         0.05389661 ... 0.         1.         0.        ]\n",
      " [0.         0.         0.         ... 0.02651502 0.         1.        ]]\n"
     ]
    }
   ],
   "source": [
    "# Now we check the similarity value\n",
    "\n",
    "print(similarity)"
   ]
  },
  {
   "cell_type": "code",
   "execution_count": 17,
   "id": "5bee3550",
   "metadata": {},
   "outputs": [
    {
     "name": "stdout",
     "output_type": "stream",
     "text": [
      "(4803, 4803)\n"
     ]
    }
   ],
   "source": [
    "print(similarity.shape)"
   ]
  },
  {
   "cell_type": "markdown",
   "id": "8be9ebe4",
   "metadata": {},
   "source": [
    "### (4803, 4803 )\n",
    "\n",
    "First 4803 is the index and second 4803 represent similarity score \n",
    "\n",
    "It means that for each movie we will compare with all the other movies, for exp let's take ' Avatar ' movie \n",
    "Avatar movie will be compared with all the other movies in the data set and will try to give a similarity score value and then \n",
    "This will be carried out for all the movies as well \n",
    "\n",
    "\n",
    "### Now that we have the similarity score \n",
    "\n",
    "We can ask the user to give his/her favorite movie name, after we get to know the movie name we will try to find whether that \n",
    "Movie is present in our data set or no \n",
    "If it's present in our data set we will try to find which movies are similar to it using similarity score \n",
    "\n",
    "## Getting the movie name from the user \n"
   ]
  },
  {
   "cell_type": "code",
   "execution_count": 18,
   "id": "1fb29d94",
   "metadata": {},
   "outputs": [
    {
     "name": "stdout",
     "output_type": "stream",
     "text": [
      " Enter your favorite movie name please: Batman\n"
     ]
    }
   ],
   "source": [
    "movie_name = input(' Enter your favorite movie name please: ')"
   ]
  },
  {
   "cell_type": "markdown",
   "id": "3436517b",
   "metadata": {},
   "source": [
    "###  Now \n",
    "\n",
    "We have to create a list which contains all the names of the movies, and the reason is that I am gonna compare it with the \n",
    "Value given by the user "
   ]
  },
  {
   "cell_type": "code",
   "execution_count": 19,
   "id": "c8061140",
   "metadata": {},
   "outputs": [
    {
     "name": "stdout",
     "output_type": "stream",
     "text": [
      "['Avatar', \"Pirates of the Caribbean: At World's End\", 'Spectre', 'The Dark Knight Rises']\n"
     ]
    }
   ],
   "source": [
    "# Creating a list with all the movie names given in the data set\n",
    "\n",
    "list_of_all_titles = movies_data['title'].tolist() \n",
    "print(list_of_all_titles[:4])"
   ]
  },
  {
   "cell_type": "markdown",
   "id": "0a0a3f07",
   "metadata": {},
   "source": [
    "### Above list contains the names of all the movies that is present in our data set \n",
    "\n",
    "The reason we are doing is that we want to find the best match for the value given by the user so we need to chech whether this \n",
    "value is present in this particular data set or no \n",
    "\n",
    "So what I will do ?\n",
    "\n",
    "I will compare 'Iron man' movie name individually with all the values in the list  "
   ]
  },
  {
   "cell_type": "code",
   "execution_count": 20,
   "id": "6af01334",
   "metadata": {},
   "outputs": [
    {
     "name": "stdout",
     "output_type": "stream",
     "text": [
      "['Batman', 'Batman', 'Catwoman']\n"
     ]
    }
   ],
   "source": [
    "# Finding the close match for the movie name given by the user \n",
    "\n",
    "find_close_match = difflib.get_close_matches(movie_name, list_of_all_titles)\n",
    "\n",
    "print(find_close_match)"
   ]
  },
  {
   "cell_type": "markdown",
   "id": "10f3840d",
   "metadata": {},
   "source": [
    "#### We got 3 close matches for given movie name ' Batman '\n",
    "\n",
    "## Now what we are going to do is :\n",
    "\n",
    "To take the first value along because we just want one movie now and after that we will try to compare which movies are similar\n",
    "To this Batman movie \n",
    "We take the first value because it's the most relevant or most similar movie name "
   ]
  },
  {
   "cell_type": "code",
   "execution_count": 21,
   "id": "7bb82d29",
   "metadata": {},
   "outputs": [
    {
     "name": "stdout",
     "output_type": "stream",
     "text": [
      "Batman\n"
     ]
    }
   ],
   "source": [
    "close_match = find_close_match[0]\n",
    "\n",
    "print(close_match)"
   ]
  },
  {
   "cell_type": "markdown",
   "id": "226cf221",
   "metadata": {},
   "source": [
    "### Now \n",
    "\n",
    "WE want to find the index of movie\n",
    "\n",
    "we got the close match ' BatMan ' now I am going to take this ' Batman '  and check which Particular row is this \n",
    "' Batman '\n",
    "\n",
    "So I compare it with title column and Can find it's index through title column easily  \n",
    "\n",
    "As the output will be in the form of list so we put values[ 0 ] to get the actual index"
   ]
  },
  {
   "cell_type": "code",
   "execution_count": 22,
   "id": "27491c41",
   "metadata": {},
   "outputs": [
    {
     "name": "stdout",
     "output_type": "stream",
     "text": [
      "1359\n"
     ]
    }
   ],
   "source": [
    "# Finding the index of the movie by using it's title \n",
    "\n",
    "index_of_the_movie = movies_data[ movies_data.title == close_match ]['index'].values[0]\n",
    "print(index_of_the_movie)"
   ]
  },
  {
   "cell_type": "markdown",
   "id": "c8f78db8",
   "metadata": {},
   "source": [
    "### Now\n",
    "\n",
    "I take this index value and  find the similar movies so we can do that because we have the similarity score\n",
    "\n",
    "The similarity score will contain the index and its a similarity score value\n",
    "\n",
    "What we are doing here is that I take this ' Batman ' movie and I am going to find the similarity score of all the movies in \n",
    "My data set , so the movies which are similar to this 'Batman' , will have a higher similarity score and the movies which \n",
    "Are not relevant to the ' Batman  ' movie will have very small similarity score  \n",
    "\n",
    "enumerate is used to run a loop in a particular list \n",
    "\n",
    "So the loop or iteration that we are doing here is we want to find the similarity score for all the movies and we don't want\n",
    "To do that individually \n",
    "\n",
    "So enumerate basically used to carry out loop in a list and also we want to get the index on counting the loop"
   ]
  },
  {
   "cell_type": "code",
   "execution_count": 23,
   "id": "44c1ba5b",
   "metadata": {},
   "outputs": [
    {
     "name": "stdout",
     "output_type": "stream",
     "text": [
      "[(0, 0.02531512269737111), (1, 0.04983293064399152), (2, 0.013599520029326722), (3, 0.20438773732168222), (4, 0.024929726723526918)]\n"
     ]
    }
   ],
   "source": [
    "# getting a list of similar movies\n",
    "\n",
    "similarity_score = list(enumerate(similarity[index_of_the_movie])) \n",
    "print(similarity_score[:5])"
   ]
  },
  {
   "cell_type": "markdown",
   "id": "afa003bc",
   "metadata": {},
   "source": [
    "### Above\n",
    "\n",
    "(0, 0.02531512269737111) The first value which is zero represents the index of the movie and 0.02531512269737111 represents\n",
    "The similarity score of the movie compared to the 'Batman'  movie\n",
    "\n",
    "As in the first indec the movie name is ' Avatar ' so we can see that the similarity score of Avatar movie with BatMan movie \n",
    "is very less 0.025 "
   ]
  },
  {
   "cell_type": "code",
   "execution_count": 24,
   "id": "ea94dfcf",
   "metadata": {},
   "outputs": [
    {
     "data": {
      "text/plain": [
       "4803"
      ]
     },
     "execution_count": 24,
     "metadata": {},
     "output_type": "execute_result"
    }
   ],
   "source": [
    "len(similarity_score)"
   ]
  },
  {
   "cell_type": "markdown",
   "id": "d86358f3",
   "metadata": {},
   "source": [
    "### Once \n",
    "\n",
    "Once we find those values which have higher similarity score then we can recommend those movies to the user\n",
    "So that will be the last step of our code\n",
    "\n",
    "## Order\n",
    "\n",
    "Now the similarity score is in the order of our data set I mean in the order of index \n",
    "\n",
    "Now we have to sort it based on the higher similarity score value to the lower similarity score value\n",
    "\n",
    "So that we can recommend the movies with higher similarity values to the user \n",
    "\n",
    "AS we sort similarity score from higher to lower so we take \n",
    "\n",
    "    ' reverse = True '\n",
    "    \n",
    "For descending order \n",
    "\n",
    "    key = lambda x : x [ 1 ]\n",
    "    \n",
    "x  =  list ' Similarity score list '\n",
    "\n",
    "\n",
    "    (0, 0.033570748780675445)\n",
    "\n",
    "      \n",
    "     x[ 0 ]  =  0                        -->   Index    \n",
    "     x[ 1 ]  =  0.033570748780675445     -->  Similarity Score\n",
    "     \n",
    "     \n",
    "     \n",
    "     \n",
    "     "
   ]
  },
  {
   "cell_type": "code",
   "execution_count": 25,
   "id": "b4375a82",
   "metadata": {},
   "outputs": [
    {
     "name": "stdout",
     "output_type": "stream",
     "text": [
      "[(1359, 1.0), (428, 0.4311643836232694), (210, 0.25737999820859625), (3, 0.20438773732168222), (119, 0.19262528757150407), (65, 0.1775581506611392), (1512, 0.14705162654306442), (813, 0.14414128303962467), (2530, 0.13737322473729185), (1017, 0.13713281929528845)]\n"
     ]
    }
   ],
   "source": [
    "# Sorting the movies based on their similarity score \n",
    "\n",
    "sorted_similar_movies = sorted(similarity_score, key = lambda x : x[1], reverse = True)\n",
    "\n",
    "print(sorted_similar_movies[:10])"
   ]
  },
  {
   "cell_type": "markdown",
   "id": "56fd32c7",
   "metadata": {},
   "source": [
    "### Above\n",
    "\n",
    "Above you can see that similarity score starts from a high score \n",
    "\n",
    "(1359, 1.0),  in the 1359th index there's a movie which have very high similarity score which is 1.0\n",
    "\n",
    "SO the top movies in the top movies in sorted_similar_movies list have high similarity score value \n",
    "\n",
    "So now we can take the fisrt 10 or 20 movies from this sorted_similar_movies list and recommend to the user\n",
    "\n",
    "### Now\n",
    "\n",
    "I take values Individually, So I take the first element (1359, 1.0) and take the index 1359 , using the index I will find the movie from my data set \n",
    "So this will be the first step of for loop.\n",
    "\n",
    "Loop explaination:\n",
    "\n",
    "    for movieee in sorted_similar_movies:\n",
    "    \n",
    "When we run the loop for first time the movieee will take this (1359, 1.0) particular value, So in this first\n",
    "Element I don't want (1359, 1.0) these two values (index, similarity score ).\n",
    "\n",
    "I just want index which is 1359 in here and through index I can find the title of the movie \n",
    "\n",
    "So for this to get index we write this line :\n",
    "    \n",
    "    index = movie[0]\n",
    "    \n",
    "    movie[ 0 ] = 1359\n",
    "    movie[ 1 ] = 1.0 \n",
    "    \n",
    "    \n",
    "     "
   ]
  },
  {
   "cell_type": "code",
   "execution_count": 26,
   "id": "3b8d8b11",
   "metadata": {},
   "outputs": [
    {
     "name": "stdout",
     "output_type": "stream",
     "text": [
      "Batman\n"
     ]
    }
   ],
   "source": [
    "# As an example we will use this in for loop which is coming  next\n",
    "# Do not write this in your project notebook\n",
    "\n",
    "TitleFromIndex = movies_data[movies_data.index == 1359]['title'].values[0]\n",
    "print(TitleFromIndex)"
   ]
  },
  {
   "cell_type": "code",
   "execution_count": 27,
   "id": "48c0e08c",
   "metadata": {},
   "outputs": [
    {
     "name": "stdout",
     "output_type": "stream",
     "text": [
      " Moveis suggested for you : \n",
      "\n",
      "1 . Batman\n",
      "2 . Batman Returns\n",
      "3 . Batman & Robin\n",
      "4 . The Dark Knight Rises\n",
      "5 . Batman Begins\n",
      "6 . The Dark Knight\n",
      "7 . A History of Violence\n",
      "8 . Superman\n",
      "9 . Beetlejuice\n",
      "10 . Bedazzled\n",
      "11 . Mars Attacks!\n",
      "12 . The Sentinel\n",
      "13 . Planet of the Apes\n",
      "14 . Man of Steel\n",
      "15 . Suicide Squad\n",
      "16 . The Mask\n",
      "17 . Salton Sea\n",
      "18 . Spider-Man 3\n",
      "19 . The Postman Always Rings Twice\n",
      "20 . Hang 'em High\n",
      "21 . Spider-Man 2\n",
      "22 . Dungeons & Dragons: Wrath of the Dragon God\n",
      "23 . Superman Returns\n",
      "24 . Jonah Hex\n",
      "25 . Exorcist II: The Heretic\n",
      "26 . Superman II\n",
      "27 . Green Lantern\n",
      "28 . Superman III\n",
      "29 . Something's Gotta Give\n",
      "30 . Reds\n"
     ]
    }
   ],
   "source": [
    "# Print the name of similar movies based on the index \n",
    "# Now based on the index in the sorted_similar_movies list we will find the name of the movie \n",
    "\n",
    "print(' Moveis suggested for you : \\n')\n",
    "\n",
    "# We take a for loop\n",
    "\n",
    "i = 1\n",
    "\n",
    "for movie in sorted_similar_movies:\n",
    "    \n",
    "    index = movie[0]\n",
    "    title_from_index =  movies_data[ movies_data.index == index ]['title'].values[0]\n",
    "    \n",
    "# I am going to suggest 30 movies name to the user based on his/her favorite movie \n",
    "\n",
    "    if (i <= 30):\n",
    "\n",
    "# I print movies with the serial number        \n",
    "       \n",
    "        print(i, '.', title_from_index )\n",
    "        i+= 1\n",
    "        \n",
    "            "
   ]
  },
  {
   "cell_type": "markdown",
   "id": "f7f5150e",
   "metadata": {},
   "source": [
    "### Well this is how our recommendation system works \n",
    "\n",
    "Now just as a last thing I want to incorporate all the codes in a single cell\n",
    "\n",
    "# Movie Recommendation System"
   ]
  },
  {
   "cell_type": "code",
   "execution_count": 29,
   "id": "aa90a312",
   "metadata": {},
   "outputs": [
    {
     "name": "stdout",
     "output_type": "stream",
     "text": [
      " Enter your favorite movie name please: Batman\n",
      "\n",
      "\n",
      " Moveis suggested for you : \n",
      "\n",
      "1 . Batman\n",
      "2 . Batman Returns\n",
      "3 . Batman & Robin\n",
      "4 . The Dark Knight Rises\n",
      "5 . Batman Begins\n",
      "6 . The Dark Knight\n",
      "7 . A History of Violence\n",
      "8 . Superman\n",
      "9 . Beetlejuice\n",
      "10 . Bedazzled\n",
      "11 . Mars Attacks!\n"
     ]
    }
   ],
   "source": [
    "\n",
    "movie_name = input(' Enter your favorite movie name please: ')\n",
    "\n",
    "list_of_all_titles = movies_data['title'].tolist() \n",
    "\n",
    "\n",
    "find_close_match = difflib.get_close_matches(movie_name, list_of_all_titles)\n",
    "\n",
    "close_match = find_close_match[0]\n",
    "\n",
    "\n",
    "index_of_the_movie = movies_data[ movies_data.title == close_match ]['index'].values[0]\n",
    "\n",
    "\n",
    "similarity_score = list(enumerate(similarity[index_of_the_movie]))\n",
    "\n",
    "\n",
    "\n",
    "sorted_similar_movies = sorted(similarity_score, key = lambda x : x[1], reverse = True)\n",
    "\n",
    "\n",
    "print('\\n\\n Moveis suggested for you : \\n')\n",
    "\n",
    "\n",
    "i = 1\n",
    "\n",
    "for movie in sorted_similar_movies:\n",
    "    \n",
    "    index = movie[0]\n",
    "    title_from_index =  movies_data[ movies_data.index == index ]['title'].values[0]\n",
    "     \n",
    "\n",
    "    if (i <= 11):\n",
    "       \n",
    "        print(i, '.', title_from_index )\n",
    "        i+= 1\n"
   ]
  },
  {
   "cell_type": "code",
   "execution_count": 31,
   "id": "97ed16eb",
   "metadata": {},
   "outputs": [
    {
     "name": "stdout",
     "output_type": "stream",
     "text": [
      "Welcome to movie recommendation system\n",
      "Chooose whether you want recommendation based on: movie_name | director \n",
      " movie_name\n",
      "\n",
      "Enter your favorite movie name please: Avatar\n",
      "\n",
      ".... Moveis suggested for you...\n",
      "\n",
      "1 . Avatar\n",
      "2 . Alien\n",
      "3 . Aliens\n",
      "4 . Guardians of the Galaxy\n",
      "5 . Star Trek Beyond\n",
      "6 . Star Trek Into Darkness\n",
      "7 . Galaxy Quest\n",
      "8 . Alien³\n",
      "9 . Cargo\n",
      "10 . Trekkies\n"
     ]
    }
   ],
   "source": [
    "def movie():\n",
    "    \n",
    "    feature_choice = input('Welcome to movie recommendation system\\nChooose whether you want recommendation based on: movie_name | director \\n ')\n",
    "    \n",
    "    if feature_choice == 'movie_name':\n",
    "    \n",
    "        movie_name = input('\\nEnter your favorite movie name please: ')\n",
    "        list_of_all_titles = movies_data['title'].tolist()\n",
    "\n",
    "        if movie_name in list_of_all_titles:\n",
    "\n",
    "            find_close_match = difflib.get_close_matches(movie_name, list_of_all_titles)\n",
    "            close_match = find_close_match[0]\n",
    "            index_of_the_movie = movies_data[ movies_data.title == close_match ]['index'].values[0]\n",
    "            similarity_score = list(enumerate(similarity[index_of_the_movie]))\n",
    "            sorted_similar_movies = sorted(similarity_score, key = lambda x : x[1], reverse = True)\n",
    "            \n",
    "            print('\\n.... Moveis suggested for you...\\n')\n",
    "            i = 1\n",
    "            for movie in sorted_similar_movies:\n",
    "\n",
    "                index = movie[0]\n",
    "                title_from_index =  movies_data[ movies_data.index == index ]['title'].values[0]\n",
    "\n",
    "                if (i <= 10):\n",
    "                    print(i, '.', title_from_index )\n",
    "                    i+= 1\n",
    "                    \n",
    "        else:\n",
    "            \n",
    "            print('Not Exist')\n",
    "        \n",
    "\n",
    "    elif feature_choice == 'director':\n",
    "        \n",
    "        director_name = input('\\nEnter your favorite director name please: ')\n",
    "        list_of_all_directors = movies_data['director'].tolist()\n",
    "        \n",
    "        if director_name in list_of_all_directors:\n",
    "            \n",
    "            find_close_match = difflib.get_close_matches(director_name, list_of_all_directors)\n",
    "            close_match = find_close_match[0]\n",
    "            \n",
    "            index_of_the_director = movies_data[ movies_data.director == close_match ]['index'].values[0]\n",
    "            similarity_score = list(enumerate(similarity[index_of_the_director]))\n",
    "            \n",
    "            sorted_similar_directors = sorted(similarity_score, key = lambda x : x[1], reverse = True)\n",
    "             \n",
    "            print('\\n      ... Moveis suggested for you...  \\n')\n",
    "            i = 1\n",
    "            for director in sorted_similar_directors:\n",
    "\n",
    "                index = director[0]\n",
    "                title_from_index =  movies_data[ movies_data.index == index ]['title'].values[0]\n",
    "\n",
    "                if (i <= 10):\n",
    "                    print(i, '.', title_from_index )\n",
    "                    i+= 1\n",
    "            \n",
    "            \n",
    "        else:\n",
    "            \n",
    "            print('Not Exist')\n",
    "            \n",
    "        \n",
    "movie()"
   ]
  },
  {
   "cell_type": "code",
   "execution_count": null,
   "id": "287ce127",
   "metadata": {},
   "outputs": [],
   "source": []
  }
 ],
 "metadata": {
  "kernelspec": {
   "display_name": "Python 3",
   "language": "python",
   "name": "python3"
  },
  "language_info": {
   "codemirror_mode": {
    "name": "ipython",
    "version": 3
   },
   "file_extension": ".py",
   "mimetype": "text/x-python",
   "name": "python",
   "nbconvert_exporter": "python",
   "pygments_lexer": "ipython3",
   "version": "3.8.8"
  }
 },
 "nbformat": 4,
 "nbformat_minor": 5
}
